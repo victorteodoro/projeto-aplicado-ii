{
  "nbformat": 4,
  "nbformat_minor": 0,
  "metadata": {
    "colab": {
      "provenance": [],
      "authorship_tag": "ABX9TyPFMbeqg0uuSAUcEHSb0byL",
      "include_colab_link": true
    },
    "kernelspec": {
      "name": "python3",
      "display_name": "Python 3"
    },
    "language_info": {
      "name": "python"
    }
  },
  "cells": [
    {
      "cell_type": "markdown",
      "metadata": {
        "id": "view-in-github",
        "colab_type": "text"
      },
      "source": [
        "<a href=\"https://colab.research.google.com/github/victorteodoro/projeto-aplicado-ii/blob/main/5_Treinando_e_testando_o_modelo.ipynb\" target=\"_parent\"><img src=\"https://colab.research.google.com/assets/colab-badge.svg\" alt=\"Open In Colab\"/></a>"
      ]
    },
    {
      "cell_type": "markdown",
      "source": [
        "# Abrindo o projeto\n",
        "\n",
        "Abrimos o projeto para ler lista de categorias e seus índices definidos pelo conjunto de treinamento."
      ],
      "metadata": {
        "id": "6briZ9bXNb7S"
      }
    },
    {
      "cell_type": "code",
      "execution_count": 6,
      "metadata": {
        "colab": {
          "base_uri": "https://localhost:8080/"
        },
        "id": "mAH4j8OkwFD-",
        "outputId": "2cd92e51-407b-4d99-d641-35c482d2e725"
      },
      "outputs": [
        {
          "name": "stdout",
          "output_type": "stream",
          "text": [
            "--2024-03-29 21:06:59--  https://asav.com.br/carcara/modulo.py\n",
            "Resolving asav.com.br (asav.com.br)... 108.179.252.164\n",
            "Connecting to asav.com.br (asav.com.br)|108.179.252.164|:443... connected.\n",
            "HTTP request sent, awaiting response... 200 OK\n",
            "Length: 45136 (44K)\n",
            "Saving to: ‘modulo.py.2’\n",
            "\n",
            "modulo.py.2         100%[===================>]  44.08K  --.-KB/s    in 0.04s   \n",
            "\n",
            "2024-03-29 21:06:59 (1.13 MB/s) - ‘modulo.py.2’ saved [45136/45136]\n",
            "\n",
            "Digite a chave de acesso: ··········\n"
          ]
        }
      ],
      "source": [
        "!wget https://asav.com.br/carcara/modulo.py\n",
        "\n",
        "with open(\"modulo.py\", 'r') as file:\n",
        "    exec(file.read())\n",
        "\n",
        "import getpass\n",
        "\n",
        "CKEY = getpass.getpass('Digite a chave de acesso: ')\n",
        "\n",
        "print(\"\\n-----------------------\\n\")\n",
        "\n",
        "projeto = ProjetoCarcara(\"2024-1-agua-e-vida-stl\", ftp=ftplib.FTP(\"ftp.asav.com.br\", \"datascience@asav.com.br\", CKEY))\n",
        "\n",
        "abrir_mapa = 2  # escolhemos o mapa de índice 2\n",
        "\n",
        "print(projeto.galeria['data'].iloc[abrir_mapa]+\"\\n\")\n",
        "\n",
        "imagem = projeto.abrirMapa(projeto.galeria['mapa_id'].iloc[abrir_mapa]) # imagem de satélite baixada\n",
        "img=imagem.visualizarMapa(projeto.area_interesse[0], projeto.area_interesse[1], projeto.area_interesse[2], projeto.area_interesse[3])\n",
        "\n",
        "mascara = imagem.mascaras['objeto'].iloc[0]\n",
        "\n",
        "display(mascara.categorias)"
      ]
    },
    {
      "cell_type": "markdown",
      "source": [
        "# Abrindo o conjunto de treinamento\n",
        "\n",
        "Insira abaixo o arquivo de treinamento baixado na etapa anterior:"
      ],
      "metadata": {
        "id": "4uj5E7Mz3Udh"
      }
    },
    {
      "cell_type": "code",
      "source": [
        "upload = files.upload()\n",
        "\n",
        "nome_do_arquivo = next(iter(upload))\n",
        "arquivo = io.BytesIO(upload[nome_do_arquivo]).getvalue()\n",
        "print(nome_do_arquivo)"
      ],
      "metadata": {
        "colab": {
          "base_uri": "https://localhost:8080/",
          "height": 75
        },
        "id": "M29hay9xwSY2",
        "outputId": "aa83b517-8a07-41de-d17c-34ae74eae65e"
      },
      "execution_count": 3,
      "outputs": [
        {
          "output_type": "display_data",
          "data": {
            "text/plain": [
              "<IPython.core.display.HTML object>"
            ],
            "text/html": [
              "\n",
              "     <input type=\"file\" id=\"files-b5739872-6a63-4566-ab4c-803515b3bd00\" name=\"files[]\" multiple disabled\n",
              "        style=\"border:none\" />\n",
              "     <output id=\"result-b5739872-6a63-4566-ab4c-803515b3bd00\">\n",
              "      Upload widget is only available when the cell has been executed in the\n",
              "      current browser session. Please rerun this cell to enable.\n",
              "      </output>\n",
              "      <script>// Copyright 2017 Google LLC\n",
              "//\n",
              "// Licensed under the Apache License, Version 2.0 (the \"License\");\n",
              "// you may not use this file except in compliance with the License.\n",
              "// You may obtain a copy of the License at\n",
              "//\n",
              "//      http://www.apache.org/licenses/LICENSE-2.0\n",
              "//\n",
              "// Unless required by applicable law or agreed to in writing, software\n",
              "// distributed under the License is distributed on an \"AS IS\" BASIS,\n",
              "// WITHOUT WARRANTIES OR CONDITIONS OF ANY KIND, either express or implied.\n",
              "// See the License for the specific language governing permissions and\n",
              "// limitations under the License.\n",
              "\n",
              "/**\n",
              " * @fileoverview Helpers for google.colab Python module.\n",
              " */\n",
              "(function(scope) {\n",
              "function span(text, styleAttributes = {}) {\n",
              "  const element = document.createElement('span');\n",
              "  element.textContent = text;\n",
              "  for (const key of Object.keys(styleAttributes)) {\n",
              "    element.style[key] = styleAttributes[key];\n",
              "  }\n",
              "  return element;\n",
              "}\n",
              "\n",
              "// Max number of bytes which will be uploaded at a time.\n",
              "const MAX_PAYLOAD_SIZE = 100 * 1024;\n",
              "\n",
              "function _uploadFiles(inputId, outputId) {\n",
              "  const steps = uploadFilesStep(inputId, outputId);\n",
              "  const outputElement = document.getElementById(outputId);\n",
              "  // Cache steps on the outputElement to make it available for the next call\n",
              "  // to uploadFilesContinue from Python.\n",
              "  outputElement.steps = steps;\n",
              "\n",
              "  return _uploadFilesContinue(outputId);\n",
              "}\n",
              "\n",
              "// This is roughly an async generator (not supported in the browser yet),\n",
              "// where there are multiple asynchronous steps and the Python side is going\n",
              "// to poll for completion of each step.\n",
              "// This uses a Promise to block the python side on completion of each step,\n",
              "// then passes the result of the previous step as the input to the next step.\n",
              "function _uploadFilesContinue(outputId) {\n",
              "  const outputElement = document.getElementById(outputId);\n",
              "  const steps = outputElement.steps;\n",
              "\n",
              "  const next = steps.next(outputElement.lastPromiseValue);\n",
              "  return Promise.resolve(next.value.promise).then((value) => {\n",
              "    // Cache the last promise value to make it available to the next\n",
              "    // step of the generator.\n",
              "    outputElement.lastPromiseValue = value;\n",
              "    return next.value.response;\n",
              "  });\n",
              "}\n",
              "\n",
              "/**\n",
              " * Generator function which is called between each async step of the upload\n",
              " * process.\n",
              " * @param {string} inputId Element ID of the input file picker element.\n",
              " * @param {string} outputId Element ID of the output display.\n",
              " * @return {!Iterable<!Object>} Iterable of next steps.\n",
              " */\n",
              "function* uploadFilesStep(inputId, outputId) {\n",
              "  const inputElement = document.getElementById(inputId);\n",
              "  inputElement.disabled = false;\n",
              "\n",
              "  const outputElement = document.getElementById(outputId);\n",
              "  outputElement.innerHTML = '';\n",
              "\n",
              "  const pickedPromise = new Promise((resolve) => {\n",
              "    inputElement.addEventListener('change', (e) => {\n",
              "      resolve(e.target.files);\n",
              "    });\n",
              "  });\n",
              "\n",
              "  const cancel = document.createElement('button');\n",
              "  inputElement.parentElement.appendChild(cancel);\n",
              "  cancel.textContent = 'Cancel upload';\n",
              "  const cancelPromise = new Promise((resolve) => {\n",
              "    cancel.onclick = () => {\n",
              "      resolve(null);\n",
              "    };\n",
              "  });\n",
              "\n",
              "  // Wait for the user to pick the files.\n",
              "  const files = yield {\n",
              "    promise: Promise.race([pickedPromise, cancelPromise]),\n",
              "    response: {\n",
              "      action: 'starting',\n",
              "    }\n",
              "  };\n",
              "\n",
              "  cancel.remove();\n",
              "\n",
              "  // Disable the input element since further picks are not allowed.\n",
              "  inputElement.disabled = true;\n",
              "\n",
              "  if (!files) {\n",
              "    return {\n",
              "      response: {\n",
              "        action: 'complete',\n",
              "      }\n",
              "    };\n",
              "  }\n",
              "\n",
              "  for (const file of files) {\n",
              "    const li = document.createElement('li');\n",
              "    li.append(span(file.name, {fontWeight: 'bold'}));\n",
              "    li.append(span(\n",
              "        `(${file.type || 'n/a'}) - ${file.size} bytes, ` +\n",
              "        `last modified: ${\n",
              "            file.lastModifiedDate ? file.lastModifiedDate.toLocaleDateString() :\n",
              "                                    'n/a'} - `));\n",
              "    const percent = span('0% done');\n",
              "    li.appendChild(percent);\n",
              "\n",
              "    outputElement.appendChild(li);\n",
              "\n",
              "    const fileDataPromise = new Promise((resolve) => {\n",
              "      const reader = new FileReader();\n",
              "      reader.onload = (e) => {\n",
              "        resolve(e.target.result);\n",
              "      };\n",
              "      reader.readAsArrayBuffer(file);\n",
              "    });\n",
              "    // Wait for the data to be ready.\n",
              "    let fileData = yield {\n",
              "      promise: fileDataPromise,\n",
              "      response: {\n",
              "        action: 'continue',\n",
              "      }\n",
              "    };\n",
              "\n",
              "    // Use a chunked sending to avoid message size limits. See b/62115660.\n",
              "    let position = 0;\n",
              "    do {\n",
              "      const length = Math.min(fileData.byteLength - position, MAX_PAYLOAD_SIZE);\n",
              "      const chunk = new Uint8Array(fileData, position, length);\n",
              "      position += length;\n",
              "\n",
              "      const base64 = btoa(String.fromCharCode.apply(null, chunk));\n",
              "      yield {\n",
              "        response: {\n",
              "          action: 'append',\n",
              "          file: file.name,\n",
              "          data: base64,\n",
              "        },\n",
              "      };\n",
              "\n",
              "      let percentDone = fileData.byteLength === 0 ?\n",
              "          100 :\n",
              "          Math.round((position / fileData.byteLength) * 100);\n",
              "      percent.textContent = `${percentDone}% done`;\n",
              "\n",
              "    } while (position < fileData.byteLength);\n",
              "  }\n",
              "\n",
              "  // All done.\n",
              "  yield {\n",
              "    response: {\n",
              "      action: 'complete',\n",
              "    }\n",
              "  };\n",
              "}\n",
              "\n",
              "scope.google = scope.google || {};\n",
              "scope.google.colab = scope.google.colab || {};\n",
              "scope.google.colab._files = {\n",
              "  _uploadFiles,\n",
              "  _uploadFilesContinue,\n",
              "};\n",
              "})(self);\n",
              "</script> "
            ]
          },
          "metadata": {}
        },
        {
          "output_type": "stream",
          "name": "stdout",
          "text": [
            "Saving S0000025fO0000048b.gz to S0000025fO0000048b.gz\n"
          ]
        }
      ]
    },
    {
      "cell_type": "markdown",
      "source": [
        "**OU** abra ele do colab diretamente se já tiver feito o *upload*."
      ],
      "metadata": {
        "id": "kl6-zBXlMXvn"
      }
    },
    {
      "cell_type": "code",
      "source": [
        "import io\n",
        "\n",
        "# Caminho para o arquivo que você quer abrir\n",
        "caminho_do_arquivo = '/content/S0000025fO0000048b.gz' # Altere se necessário\n",
        "\n",
        "# Lendo o arquivo e armazenando seu conteúdo em um objeto BytesIO\n",
        "with open(caminho_do_arquivo, 'rb') as arquivo:\n",
        "    conteudo = arquivo.read()\n",
        "    arquivo = io.BytesIO(conteudo).getvalue()"
      ],
      "metadata": {
        "id": "WZUypS6FE20u"
      },
      "execution_count": 13,
      "outputs": []
    },
    {
      "cell_type": "markdown",
      "source": [
        "# Preparando o conjunto de treinamento\n",
        "\n",
        "Agora vamos formatar os dados para o conjunto de treinamento dentro da biblioteca *numpy*."
      ],
      "metadata": {
        "id": "duGD-Qod3e9b"
      }
    },
    {
      "cell_type": "code",
      "source": [
        "import numpy as np\n",
        "import struct\n",
        "\n",
        "# Supondo que `arquivo` é seu array de bytes e `mascara.categorias['indice']` são as categorias desejadas\n",
        "\n",
        "# Processar entradas\n",
        "numero_de_entradas = len(arquivo) // tam_item\n",
        "entradas_np = np.zeros((numero_de_entradas, 12, 12, 3), dtype=np.float32)\n",
        "\n",
        "for i in range(numero_de_entradas):\n",
        "    inicio = i * tam_item\n",
        "    entrada_bytes = arquivo[inicio:inicio+tam_entrada]\n",
        "    entrada_array = np.frombuffer(entrada_bytes, dtype=np.uint8).reshape(12, 12, 3) / 255.0\n",
        "    entradas_np[i] = entrada_array\n",
        "\n",
        "# Processar saídas\n",
        "saidas_np = np.zeros((numero_de_entradas, 4, 4, 1), dtype=np.float32)\n",
        "\n",
        "for i, saida_pre in enumerate(saidas_pre):\n",
        "    # Convertendo índices de categorias em formato one-hot 4x4x1\n",
        "    saida_array = np.zeros((4, 4, 1), dtype=np.float32)\n",
        "    for y in range(4):\n",
        "        for x in range(4):\n",
        "            indice = y * 4 + x\n",
        "            categoria = saida_pre[indice]\n",
        "            if categoria in categorias:  # Supondo que `categorias` é uma lista de índices válidos\n",
        "                saida_array[y, x, 0] = 1.0\n",
        "    saidas_np[i] = saida_array\n",
        "\n",
        "# Agora `entradas_np` e `saidas_np` estão prontos para serem utilizados\n"
      ],
      "metadata": {
        "id": "nKhO2vNxxIFP"
      },
      "execution_count": 16,
      "outputs": []
    },
    {
      "cell_type": "markdown",
      "source": [
        "Agora temos o conjunto de entrada e o de saída já formatados em duas listas de listas.\n",
        "\n",
        "**Para a entrada** os valores R, G e B em uma matriz 12x12.\n",
        "\n",
        "**Para a saída** a probabilidade de cada categoria em uma matriz 4x4."
      ],
      "metadata": {
        "id": "KjXENm-s1_Mf"
      }
    },
    {
      "cell_type": "markdown",
      "source": [
        "# Treinando e avaliando o modelo\n",
        "\n",
        "Agora vamos ao *tensorflow* e ao *keras* para treinar o modelo."
      ],
      "metadata": {
        "id": "CxLHWSEJOBNA"
      }
    },
    {
      "cell_type": "code",
      "source": [
        "from tensorflow.keras.models import Sequential\n",
        "from tensorflow.keras.layers import Conv2D, MaxPooling2D, Flatten, Dense, Reshape\n",
        "from tensorflow.keras.optimizers import Adam\n",
        "from sklearn.model_selection import train_test_split\n",
        "import numpy as np\n",
        "from google.colab import files\n",
        "from datetime import datetime\n",
        "\n",
        "# Dividindo os dados em conjuntos de treinamento e teste\n",
        "entradas_treinamento, entradas_teste, saidas_treinamento, saidas_teste = train_test_split(\n",
        "    entradas_np, saidas_np, test_size=0.5, random_state=42)\n",
        "\n",
        "# Número de categorias\n",
        "num_classes = 16  # Ajuste conforme o número exato de categorias\n",
        "\n",
        "# Definindo o modelo\n",
        "model = Sequential([\n",
        "    Conv2D(32, (3, 3), activation='relu', input_shape=(12, 12, 3)),\n",
        "    MaxPooling2D((2, 2)),\n",
        "    Flatten(),\n",
        "    Dense(64, activation='relu'),\n",
        "    # Ajuste para problemas de múltiplas etiquetas binárias com uma camada Reshape\n",
        "    Dense(4*4*1, activation='sigmoid'),\n",
        "    Reshape((4, 4, 1))  # Correção aqui\n",
        "])\n",
        "\n",
        "# Compilar o modelo\n",
        "model.compile(optimizer=Adam(), loss='binary_crossentropy', metrics=['accuracy'])\n",
        "\n",
        "# Treinar o modelo\n",
        "model.fit(entradas_treinamento, saidas_treinamento, validation_data=(entradas_teste, saidas_teste), epochs=10, batch_size=32)\n",
        "\n",
        "# Avaliar o modelo no conjunto de teste\n",
        "avaliacao_teste = model.evaluate(entradas_teste, saidas_teste)\n",
        "print(f\"Test Loss: {avaliacao_teste[0]}, Test Accuracy: {avaliacao_teste[1]}\")\n"
      ],
      "metadata": {
        "colab": {
          "base_uri": "https://localhost:8080/"
        },
        "id": "Kg1DFKWedFr_",
        "outputId": "a25ab730-3e51-4656-8878-1fbda34f043f"
      },
      "execution_count": null,
      "outputs": [
        {
          "output_type": "stream",
          "name": "stdout",
          "text": [
            "Epoch 1/10\n",
            "18818/18818 [==============================] - 136s 7ms/step - loss: 0.3083 - accuracy: 0.8507 - val_loss: 0.2677 - val_accuracy: 0.8793\n",
            "Epoch 2/10\n",
            "18818/18818 [==============================] - 127s 7ms/step - loss: 0.2549 - accuracy: 0.8860 - val_loss: 0.2429 - val_accuracy: 0.8919\n",
            "Epoch 3/10\n",
            "18818/18818 [==============================] - 127s 7ms/step - loss: 0.2409 - accuracy: 0.8924 - val_loss: 0.2361 - val_accuracy: 0.8947\n",
            "Epoch 4/10\n",
            "18818/18818 [==============================] - 131s 7ms/step - loss: 0.2326 - accuracy: 0.8966 - val_loss: 0.2285 - val_accuracy: 0.8980\n",
            "Epoch 5/10\n",
            "18818/18818 [==============================] - 135s 7ms/step - loss: 0.2263 - accuracy: 0.8998 - val_loss: 0.2165 - val_accuracy: 0.9041\n",
            "Epoch 6/10\n",
            "18818/18818 [==============================] - 130s 7ms/step - loss: 0.2210 - accuracy: 0.9023 - val_loss: 0.2159 - val_accuracy: 0.9053\n",
            "Epoch 7/10\n",
            "18818/18818 [==============================] - 137s 7ms/step - loss: 0.2158 - accuracy: 0.9049 - val_loss: 0.2070 - val_accuracy: 0.9091\n",
            "Epoch 8/10\n",
            "18818/18818 [==============================] - ETA: 0s - loss: 0.2105 - accuracy: 0.9072"
          ]
        }
      ]
    },
    {
      "cell_type": "markdown",
      "source": [
        "Podemos repetir o treinamento se achar necessário"
      ],
      "metadata": {
        "id": "R9YFM5OrLsAc"
      }
    },
    {
      "cell_type": "code",
      "source": [
        "# Treinar o modelo\n",
        "model.fit(entradas_treinamento, saidas_treinamento, validation_data=(entradas_teste, saidas_teste), epochs=10, batch_size=32)\n",
        "\n",
        "# Avaliar o modelo no conjunto de teste\n",
        "avaliacao_teste = model.evaluate(entradas_teste, saidas_teste)\n",
        "print(f\"Test Loss: {avaliacao_teste[0]}, Test Accuracy: {avaliacao_teste[1]}\")"
      ],
      "metadata": {
        "id": "mYLtDYu4B8eh"
      },
      "execution_count": null,
      "outputs": []
    },
    {
      "cell_type": "markdown",
      "source": [
        "Por fim, salvar o modelo treinado"
      ],
      "metadata": {
        "id": "nuot5XOdL1QN"
      }
    },
    {
      "cell_type": "code",
      "source": [
        "# Salvar o modelo treinado\n",
        "nome_do_arquivo = f\"seriema-{datetime.now().strftime('%Y-%m-%d_%H-%M-%S-%f')}.h5\"\n",
        "model.save(nome_do_arquivo)\n",
        "\n",
        "# Usar a função files.download para oferecer o arquivo para download\n",
        "files.download(nome_do_arquivo)"
      ],
      "metadata": {
        "colab": {
          "base_uri": "https://localhost:8080/",
          "height": 72
        },
        "id": "3NUTngZutvEX",
        "outputId": "941cf768-1898-4056-c523-35a7a0f80f59"
      },
      "execution_count": 18,
      "outputs": [
        {
          "output_type": "stream",
          "name": "stderr",
          "text": [
            "/usr/local/lib/python3.10/dist-packages/keras/src/engine/training.py:3103: UserWarning: You are saving your model as an HDF5 file via `model.save()`. This file format is considered legacy. We recommend using instead the native Keras format, e.g. `model.save('my_model.keras')`.\n",
            "  saving_api.save_model(\n"
          ]
        },
        {
          "output_type": "display_data",
          "data": {
            "text/plain": [
              "<IPython.core.display.Javascript object>"
            ],
            "application/javascript": [
              "\n",
              "    async function download(id, filename, size) {\n",
              "      if (!google.colab.kernel.accessAllowed) {\n",
              "        return;\n",
              "      }\n",
              "      const div = document.createElement('div');\n",
              "      const label = document.createElement('label');\n",
              "      label.textContent = `Downloading \"${filename}\": `;\n",
              "      div.appendChild(label);\n",
              "      const progress = document.createElement('progress');\n",
              "      progress.max = size;\n",
              "      div.appendChild(progress);\n",
              "      document.body.appendChild(div);\n",
              "\n",
              "      const buffers = [];\n",
              "      let downloaded = 0;\n",
              "\n",
              "      const channel = await google.colab.kernel.comms.open(id);\n",
              "      // Send a message to notify the kernel that we're ready.\n",
              "      channel.send({})\n",
              "\n",
              "      for await (const message of channel.messages) {\n",
              "        // Send a message to notify the kernel that we're ready.\n",
              "        channel.send({})\n",
              "        if (message.buffers) {\n",
              "          for (const buffer of message.buffers) {\n",
              "            buffers.push(buffer);\n",
              "            downloaded += buffer.byteLength;\n",
              "            progress.value = downloaded;\n",
              "          }\n",
              "        }\n",
              "      }\n",
              "      const blob = new Blob(buffers, {type: 'application/binary'});\n",
              "      const a = document.createElement('a');\n",
              "      a.href = window.URL.createObjectURL(blob);\n",
              "      a.download = filename;\n",
              "      div.appendChild(a);\n",
              "      a.click();\n",
              "      div.remove();\n",
              "    }\n",
              "  "
            ]
          },
          "metadata": {}
        },
        {
          "output_type": "display_data",
          "data": {
            "text/plain": [
              "<IPython.core.display.Javascript object>"
            ],
            "application/javascript": [
              "download(\"download_827618b1-c026-4ec5-a115-506c5cdd6c63\", \"seriema-2024-03-29_22-09-23-921587.h5\", 677192)"
            ]
          },
          "metadata": {}
        }
      ]
    }
  ]
}