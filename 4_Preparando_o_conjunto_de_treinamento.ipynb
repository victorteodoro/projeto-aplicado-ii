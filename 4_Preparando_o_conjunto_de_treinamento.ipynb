{
  "nbformat": 4,
  "nbformat_minor": 0,
  "metadata": {
    "colab": {
      "provenance": [],
      "authorship_tag": "ABX9TyMiZtaQdEZOnII2Q0IenVYT",
      "include_colab_link": true
    },
    "kernelspec": {
      "name": "python3",
      "display_name": "Python 3"
    },
    "language_info": {
      "name": "python"
    }
  },
  "cells": [
    {
      "cell_type": "markdown",
      "metadata": {
        "id": "view-in-github",
        "colab_type": "text"
      },
      "source": [
        "<a href=\"https://colab.research.google.com/github/victorteodoro/projeto-aplicado-ii/blob/main/4_Preparando_o_conjunto_de_treinamento.ipynb\" target=\"_parent\"><img src=\"https://colab.research.google.com/assets/colab-badge.svg\" alt=\"Open In Colab\"/></a>"
      ]
    },
    {
      "cell_type": "markdown",
      "source": [
        "#Entendo o problema\n",
        "\n",
        "Para iniciar a preparação antes vamos entender as possíveis operações que podem ser feitas na imagem que criam novas imagens únicas a partir de uma imagem inicial.\n",
        "\n",
        "1. Podemos rotacionar a imagem 90, 180 e 270 graus sem deformar os pixeis com a função *rotate* disponível no objeto da *Image PIL*.\n",
        "\n",
        "2. Podemos inverter horizontalmente e/ou verticalmente usando traspose também disponível no objeto.\n",
        "\n",
        "Após aplicar as possíveis combinações de transformações temos 16 resultados duplicados que podem ser agrupados em 8 resultados únicos.\n",
        "\n",
        "Para descobrir o caminho menos complexo (com menos transformações da imagem) para cada resultado vamos contar o número de passos (transformações) utilizados e evidenciar o caminho mais curto na variável *melhor_opcao*."
      ],
      "metadata": {
        "id": "N47N4iYOSDIT"
      }
    },
    {
      "cell_type": "code",
      "execution_count": 42,
      "metadata": {
        "colab": {
          "base_uri": "https://localhost:8080/",
          "height": 1000
        },
        "id": "-mNuGqlKFTcO",
        "outputId": "ef95637c-d2aa-4103-f86a-aede543dcc9b"
      },
      "outputs": [
        {
          "output_type": "stream",
          "name": "stdout",
          "text": [
            "----------------------------------------------\n",
            "\n",
            "Existem 8 possíveis resultados únicos:\n",
            "\n"
          ]
        },
        {
          "output_type": "display_data",
          "data": {
            "text/plain": [
              "'RGBX'"
            ],
            "application/vnd.google.colaboratory.intrinsic+json": {
              "type": "string"
            }
          },
          "metadata": {}
        },
        {
          "output_type": "display_data",
          "data": {
            "text/plain": [
              "['Em 0 passos: Não rotacionado',\n",
              " 'Em 3 passos: Rotacionado em 180 graus e invertendo horizontalmente e verticalmente']"
            ]
          },
          "metadata": {}
        },
        {
          "output_type": "display_data",
          "data": {
            "text/plain": [
              "''"
            ],
            "application/vnd.google.colaboratory.intrinsic+json": {
              "type": "string"
            }
          },
          "metadata": {}
        },
        {
          "output_type": "display_data",
          "data": {
            "text/plain": [
              "'GRXB'"
            ],
            "application/vnd.google.colaboratory.intrinsic+json": {
              "type": "string"
            }
          },
          "metadata": {}
        },
        {
          "output_type": "display_data",
          "data": {
            "text/plain": [
              "['Em 1 passos: Não rotacionado e invertendo horizontalmente',\n",
              " 'Em 2 passos: Rotacionado em 180 graus e invertendo verticalmente']"
            ]
          },
          "metadata": {}
        },
        {
          "output_type": "display_data",
          "data": {
            "text/plain": [
              "''"
            ],
            "application/vnd.google.colaboratory.intrinsic+json": {
              "type": "string"
            }
          },
          "metadata": {}
        },
        {
          "output_type": "display_data",
          "data": {
            "text/plain": [
              "'BXRG'"
            ],
            "application/vnd.google.colaboratory.intrinsic+json": {
              "type": "string"
            }
          },
          "metadata": {}
        },
        {
          "output_type": "display_data",
          "data": {
            "text/plain": [
              "['Em 1 passos: Não rotacionado e invertendo verticalmente',\n",
              " 'Em 2 passos: Rotacionado em 180 graus e invertendo horizontalmente']"
            ]
          },
          "metadata": {}
        },
        {
          "output_type": "display_data",
          "data": {
            "text/plain": [
              "''"
            ],
            "application/vnd.google.colaboratory.intrinsic+json": {
              "type": "string"
            }
          },
          "metadata": {}
        },
        {
          "output_type": "display_data",
          "data": {
            "text/plain": [
              "'XBGR'"
            ],
            "application/vnd.google.colaboratory.intrinsic+json": {
              "type": "string"
            }
          },
          "metadata": {}
        },
        {
          "output_type": "display_data",
          "data": {
            "text/plain": [
              "['Em 2 passos: Não rotacionado e invertendo horizontalmente e verticalmente',\n",
              " 'Em 1 passos: Rotacionado em 180 graus']"
            ]
          },
          "metadata": {}
        },
        {
          "output_type": "display_data",
          "data": {
            "text/plain": [
              "''"
            ],
            "application/vnd.google.colaboratory.intrinsic+json": {
              "type": "string"
            }
          },
          "metadata": {}
        },
        {
          "output_type": "display_data",
          "data": {
            "text/plain": [
              "'GXRB'"
            ],
            "application/vnd.google.colaboratory.intrinsic+json": {
              "type": "string"
            }
          },
          "metadata": {}
        },
        {
          "output_type": "display_data",
          "data": {
            "text/plain": [
              "['Em 1 passos: Rotacionado em 90 graus',\n",
              " 'Em 3 passos: Rotacionado em 270 graus e invertendo horizontalmente e verticalmente']"
            ]
          },
          "metadata": {}
        },
        {
          "output_type": "display_data",
          "data": {
            "text/plain": [
              "''"
            ],
            "application/vnd.google.colaboratory.intrinsic+json": {
              "type": "string"
            }
          },
          "metadata": {}
        },
        {
          "output_type": "display_data",
          "data": {
            "text/plain": [
              "'XGBR'"
            ],
            "application/vnd.google.colaboratory.intrinsic+json": {
              "type": "string"
            }
          },
          "metadata": {}
        },
        {
          "output_type": "display_data",
          "data": {
            "text/plain": [
              "['Em 2 passos: Rotacionado em 90 graus e invertendo horizontalmente',\n",
              " 'Em 2 passos: Rotacionado em 270 graus e invertendo verticalmente']"
            ]
          },
          "metadata": {}
        },
        {
          "output_type": "display_data",
          "data": {
            "text/plain": [
              "''"
            ],
            "application/vnd.google.colaboratory.intrinsic+json": {
              "type": "string"
            }
          },
          "metadata": {}
        },
        {
          "output_type": "display_data",
          "data": {
            "text/plain": [
              "'RBGX'"
            ],
            "application/vnd.google.colaboratory.intrinsic+json": {
              "type": "string"
            }
          },
          "metadata": {}
        },
        {
          "output_type": "display_data",
          "data": {
            "text/plain": [
              "['Em 2 passos: Rotacionado em 90 graus e invertendo verticalmente',\n",
              " 'Em 2 passos: Rotacionado em 270 graus e invertendo horizontalmente']"
            ]
          },
          "metadata": {}
        },
        {
          "output_type": "display_data",
          "data": {
            "text/plain": [
              "''"
            ],
            "application/vnd.google.colaboratory.intrinsic+json": {
              "type": "string"
            }
          },
          "metadata": {}
        },
        {
          "output_type": "display_data",
          "data": {
            "text/plain": [
              "'BRXG'"
            ],
            "application/vnd.google.colaboratory.intrinsic+json": {
              "type": "string"
            }
          },
          "metadata": {}
        },
        {
          "output_type": "display_data",
          "data": {
            "text/plain": [
              "['Em 3 passos: Rotacionado em 90 graus e invertendo horizontalmente e verticalmente',\n",
              " 'Em 1 passos: Rotacionado em 270 graus']"
            ]
          },
          "metadata": {}
        },
        {
          "output_type": "display_data",
          "data": {
            "text/plain": [
              "''"
            ],
            "application/vnd.google.colaboratory.intrinsic+json": {
              "type": "string"
            }
          },
          "metadata": {}
        },
        {
          "output_type": "stream",
          "name": "stdout",
          "text": [
            "\n",
            " O melhor caminho para cada um é:\n",
            "\n"
          ]
        },
        {
          "output_type": "display_data",
          "data": {
            "text/plain": [
              "'RGBX'"
            ],
            "application/vnd.google.colaboratory.intrinsic+json": {
              "type": "string"
            }
          },
          "metadata": {}
        },
        {
          "output_type": "display_data",
          "data": {
            "text/plain": [
              "<PIL.Image.Image image mode=RGB size=32x32>"
            ],
            "image/png": "[encoded data removed]"
          },
          "metadata": {}
        },
        {
          "output_type": "display_data",
          "data": {
            "text/plain": [
              "'Não rotacionado'"
            ],
            "application/vnd.google.colaboratory.intrinsic+json": {
              "type": "string"
            }
          },
          "metadata": {}
        },
        {
          "output_type": "display_data",
          "data": {
            "text/plain": [
              "''"
            ],
            "application/vnd.google.colaboratory.intrinsic+json": {
              "type": "string"
            }
          },
          "metadata": {}
        },
        {
          "output_type": "display_data",
          "data": {
            "text/plain": [
              "'GRXB'"
            ],
            "application/vnd.google.colaboratory.intrinsic+json": {
              "type": "string"
            }
          },
          "metadata": {}
        },
        {
          "output_type": "display_data",
          "data": {
            "text/plain": [
              "<PIL.Image.Image image mode=RGB size=32x32>"
            ],
            "image/png": "[encoded data removed]"
          },
          "metadata": {}
        },
        {
          "output_type": "display_data",
          "data": {
            "text/plain": [
              "'Não rotacionado e invertendo horizontalmente'"
            ],
            "application/vnd.google.colaboratory.intrinsic+json": {
              "type": "string"
            }
          },
          "metadata": {}
        },
        {
          "output_type": "display_data",
          "data": {
            "text/plain": [
              "''"
            ],
            "application/vnd.google.colaboratory.intrinsic+json": {
              "type": "string"
            }
          },
          "metadata": {}
        },
        {
          "output_type": "display_data",
          "data": {
            "text/plain": [
              "'BXRG'"
            ],
            "application/vnd.google.colaboratory.intrinsic+json": {
              "type": "string"
            }
          },
          "metadata": {}
        },
        {
          "output_type": "display_data",
          "data": {
            "text/plain": [
              "<PIL.Image.Image image mode=RGB size=32x32>"
            ],
            "image/png": "[encoded data removed]"
          },
          "metadata": {}
        },
        {
          "output_type": "display_data",
          "data": {
            "text/plain": [
              "'Não rotacionado e invertendo verticalmente'"
            ],
            "application/vnd.google.colaboratory.intrinsic+json": {
              "type": "string"
            }
          },
          "metadata": {}
        },
        {
          "output_type": "display_data",
          "data": {
            "text/plain": [
              "''"
            ],
            "application/vnd.google.colaboratory.intrinsic+json": {
              "type": "string"
            }
          },
          "metadata": {}
        },
        {
          "output_type": "display_data",
          "data": {
            "text/plain": [
              "'XBGR'"
            ],
            "application/vnd.google.colaboratory.intrinsic+json": {
              "type": "string"
            }
          },
          "metadata": {}
        },
        {
          "output_type": "display_data",
          "data": {
            "text/plain": [
              "<PIL.Image.Image image mode=RGB size=32x32>"
            ],
            "image/png": "[encoded data removed]"
          },
          "metadata": {}
        },
        {
          "output_type": "display_data",
          "data": {
            "text/plain": [
              "'Rotacionado em 180 graus'"
            ],
            "application/vnd.google.colaboratory.intrinsic+json": {
              "type": "string"
            }
          },
          "metadata": {}
        },
        {
          "output_type": "display_data",
          "data": {
            "text/plain": [
              "''"
            ],
            "application/vnd.google.colaboratory.intrinsic+json": {
              "type": "string"
            }
          },
          "metadata": {}
        },
        {
          "output_type": "display_data",
          "data": {
            "text/plain": [
              "'GXRB'"
            ],
            "application/vnd.google.colaboratory.intrinsic+json": {
              "type": "string"
            }
          },
          "metadata": {}
        },
        {
          "output_type": "display_data",
          "data": {
            "text/plain": [
              "<PIL.Image.Image image mode=RGB size=32x32>"
            ],
            "image/png": "[encoded data removed]"
          },
          "metadata": {}
        },
        {
          "output_type": "display_data",
          "data": {
            "text/plain": [
              "'Rotacionado em 90 graus'"
            ],
            "application/vnd.google.colaboratory.intrinsic+json": {
              "type": "string"
            }
          },
          "metadata": {}
        },
        {
          "output_type": "display_data",
          "data": {
            "text/plain": [
              "''"
            ],
            "application/vnd.google.colaboratory.intrinsic+json": {
              "type": "string"
            }
          },
          "metadata": {}
        },
        {
          "output_type": "display_data",
          "data": {
            "text/plain": [
              "'XGBR'"
            ],
            "application/vnd.google.colaboratory.intrinsic+json": {
              "type": "string"
            }
          },
          "metadata": {}
        },
        {
          "output_type": "display_data",
          "data": {
            "text/plain": [
              "<PIL.Image.Image image mode=RGB size=32x32>"
            ],
            "image/png": "[encoded data removed]"
          },
          "metadata": {}
        },
        {
          "output_type": "display_data",
          "data": {
            "text/plain": [
              "'Rotacionado em 90 graus e invertendo horizontalmente'"
            ],
            "application/vnd.google.colaboratory.intrinsic+json": {
              "type": "string"
            }
          },
          "metadata": {}
        },
        {
          "output_type": "display_data",
          "data": {
            "text/plain": [
              "''"
            ],
            "application/vnd.google.colaboratory.intrinsic+json": {
              "type": "string"
            }
          },
          "metadata": {}
        },
        {
          "output_type": "display_data",
          "data": {
            "text/plain": [
              "'RBGX'"
            ],
            "application/vnd.google.colaboratory.intrinsic+json": {
              "type": "string"
            }
          },
          "metadata": {}
        },
        {
          "output_type": "display_data",
          "data": {
            "text/plain": [
              "<PIL.Image.Image image mode=RGB size=32x32>"
            ],
            "image/png": "[encoded data removed]"
          },
          "metadata": {}
        },
        {
          "output_type": "display_data",
          "data": {
            "text/plain": [
              "'Rotacionado em 90 graus e invertendo verticalmente'"
            ],
            "application/vnd.google.colaboratory.intrinsic+json": {
              "type": "string"
            }
          },
          "metadata": {}
        },
        {
          "output_type": "display_data",
          "data": {
            "text/plain": [
              "''"
            ],
            "application/vnd.google.colaboratory.intrinsic+json": {
              "type": "string"
            }
          },
          "metadata": {}
        },
        {
          "output_type": "display_data",
          "data": {
            "text/plain": [
              "'BRXG'"
            ],
            "application/vnd.google.colaboratory.intrinsic+json": {
              "type": "string"
            }
          },
          "metadata": {}
        },
        {
          "output_type": "display_data",
          "data": {
            "text/plain": [
              "<PIL.Image.Image image mode=RGB size=32x32>"
            ],
            "image/png": "[encoded data removed]"
          },
          "metadata": {}
        },
        {
          "output_type": "display_data",
          "data": {
            "text/plain": [
              "'Rotacionado em 270 graus'"
            ],
            "application/vnd.google.colaboratory.intrinsic+json": {
              "type": "string"
            }
          },
          "metadata": {}
        },
        {
          "output_type": "display_data",
          "data": {
            "text/plain": [
              "''"
            ],
            "application/vnd.google.colaboratory.intrinsic+json": {
              "type": "string"
            }
          },
          "metadata": {}
        }
      ],
      "source": [
        "from PIL import Image\n",
        "from IPython.display import display\n",
        "\n",
        "# Criando uma imagem branca de 32x32 pixels\n",
        "img = Image.new(\"RGB\", (32, 32), (215,215,215))\n",
        "\n",
        "# Acessando o contexto de desenho da imagem\n",
        "pixels = img.load()\n",
        "\n",
        "# Preenchendo cada canto com a cor especificada (R, G, B, e preto)\n",
        "# Canto superior esquerdo: Vermelho (R)\n",
        "for x in range(8):\n",
        "    for y in range(8):\n",
        "        pixels[x, y] = (255, 0, 0)  # Vermelho\n",
        "\n",
        "# Canto superior direito: Verde (G)\n",
        "for x in range(24, 32):\n",
        "    for y in range(8):\n",
        "        pixels[x, y] = (0, 255, 0)  # Verde\n",
        "\n",
        "# Canto inferior esquerdo: Azul (B)\n",
        "for x in range(8):\n",
        "    for y in range(24, 32):\n",
        "        pixels[x, y] = (0, 0, 255)  # Azul\n",
        "\n",
        "# Canto inferior direito: Preto\n",
        "for x in range(24, 32):\n",
        "    for y in range(24, 32):\n",
        "        pixels[x, y] = (0, 0, 0)  # Preto\n",
        "\n",
        "def lerCores(img):\n",
        "  lista = [img.getpixel((0,0)), img.getpixel((31,0)), img.getpixel((0,31)), img.getpixel((31,31))]\n",
        "  cores = {\"R\":(255,0,0), \"G\":(0,255,0), \"B\":(0,0,255), \"X\":(0,0,0)}\n",
        "  res = \"\"\n",
        "  for item in lista:\n",
        "    for letra, cor in cores.items():\n",
        "      if item == cor:\n",
        "        res += letra\n",
        "        break;\n",
        "  return res\n",
        "\n",
        "codigos = []\n",
        "\n",
        "possibilidades = {}\n",
        "\n",
        "complexidade = {}\n",
        "\n",
        "melhor_opcao = {}\n",
        "\n",
        "imagens = {}\n",
        "\n",
        "def analisarResultado(img, rot, comp, passos):\n",
        "  global codigos, possibilidades, complexidade, melhor_opcao, imagens\n",
        "  codigo = lerCores(img)\n",
        "\n",
        "  if rot>0:\n",
        "    msg = f\"Rotacionado em {rot} graus\"+comp\n",
        "  else:\n",
        "    msg = \"Não rotacionado\"+comp\n",
        "\n",
        "  if not codigo in codigos:\n",
        "    codigos.append(codigo)\n",
        "    possibilidades[codigo] = []\n",
        "    complexidade[codigo] = passos\n",
        "    melhor_opcao[codigo] = msg\n",
        "    imagens[codigo] = img\n",
        "\n",
        "  else:\n",
        "    if passos < complexidade[codigo]:\n",
        "      complexidade[codigo] = passos\n",
        "      melhor_opcao[codigo] = msg\n",
        "      imagens[codigo] = img\n",
        "\n",
        "  possibilidades[codigo].append(f\"Em {passos} passos: \"+msg)\n",
        "\n",
        "\n",
        "for r in range(0,4):\n",
        "  r_img = img.rotate(r*90)\n",
        "  if r==0: passos=0\n",
        "  else: passos=1\n",
        "\n",
        "  analisarResultado(r_img, r*90, \"\", passos)\n",
        "\n",
        "  # Invertendo a imagem horizontalmente\n",
        "  analisarResultado(r_img.transpose(Image.FLIP_LEFT_RIGHT), r*90, \" e invertendo horizontalmente\", passos+1)\n",
        "\n",
        "  # Invertendo a imagem verticalmente\n",
        "  analisarResultado(r_img.transpose(Image.FLIP_TOP_BOTTOM), r*90, \" e invertendo verticalmente\", passos+1)\n",
        "\n",
        "  # Invertendo a imagem horizontalmente e verticalmente\n",
        "  analisarResultado(r_img.transpose(Image.FLIP_LEFT_RIGHT).transpose(Image.FLIP_TOP_BOTTOM), r*90, \" e invertendo horizontalmente e verticalmente\", passos+2)\n",
        "\n",
        "print(f\"----------------------------------------------\\n\\nExistem {len(possibilidades)} possíveis resultados únicos:\\n\")\n",
        "for i,n in possibilidades.items():\n",
        "  display(i,n,\"\")\n",
        "print(\"\\n O melhor caminho para cada um é:\\n\")\n",
        "for i,n in melhor_opcao.items():\n",
        "  display(i,imagens[i],n,\"\")"
      ]
    },
    {
      "cell_type": "markdown",
      "source": [
        "Agora que executamos o teste das operações sobre a imagem podemos aplicá-lo para expandir nosso modelo de treinamento.\n",
        "\n",
        "O conjunto de treinamento que será extraído da imagem rotulada terá seu tamanho multiplicado por 8 ao aplicar as tranformações e ainda sim terá apenas imagens únicas.\n",
        "\n",
        "As tranformações propostas devem ser aplicadas tanto à matriz de entrada com 12x12 pixeis quanto à matriz categorica de saída de 4x4 pixeis."
      ],
      "metadata": {
        "id": "9MT9vDgIWBtv"
      }
    }
  ]
}